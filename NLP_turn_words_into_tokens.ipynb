{
  "nbformat": 4,
  "nbformat_minor": 0,
  "metadata": {
    "colab": {
      "provenance": [],
      "authorship_tag": "ABX9TyNST4NJPAA5qGdZNXKZNvKp",
      "include_colab_link": true
    },
    "kernelspec": {
      "name": "python3",
      "display_name": "Python 3"
    },
    "language_info": {
      "name": "python"
    }
  },
  "cells": [
    {
      "cell_type": "markdown",
      "metadata": {
        "id": "view-in-github",
        "colab_type": "text"
      },
      "source": [
        "<a href=\"https://colab.research.google.com/github/Gibsdevops/NLP_with_tensorflow/blob/main/NLP_turn_words_into_tokens.ipynb\" target=\"_parent\"><img src=\"https://colab.research.google.com/assets/colab-badge.svg\" alt=\"Open In Colab\"/></a>"
      ]
    },
    {
      "cell_type": "code",
      "execution_count": 1,
      "metadata": {
        "id": "4RNz4CvrmtIR"
      },
      "outputs": [],
      "source": [
        "from tensorflow.keras.preprocessing.text import Tokenizer"
      ]
    },
    {
      "cell_type": "code",
      "source": [
        "tokenizer = Tokenizer(num_words=10, oov_token=\"<OOV>\")"
      ],
      "metadata": {
        "id": "SmvhGfkOm_-g"
      },
      "execution_count": 9,
      "outputs": []
    },
    {
      "cell_type": "code",
      "source": [
        "sentences = [\n",
        "    \"My favorite food is ice cream\",\n",
        "    \"Do you like ice cream too?\"\n",
        "]"
      ],
      "metadata": {
        "id": "T0oPjXxfnEEz"
      },
      "execution_count": 10,
      "outputs": []
    },
    {
      "cell_type": "code",
      "source": [
        "tokenizer.fit_on_texts(sentences)"
      ],
      "metadata": {
        "id": "0hwXhpvknVMR"
      },
      "execution_count": 11,
      "outputs": []
    },
    {
      "cell_type": "code",
      "source": [
        "word_index = tokenizer.word_index\n",
        "print(word_index)"
      ],
      "metadata": {
        "colab": {
          "base_uri": "https://localhost:8080/"
        },
        "id": "NDd1POkMneeJ",
        "outputId": "aa59034d-6cba-4c50-c767-55af541a0ff7"
      },
      "execution_count": 12,
      "outputs": [
        {
          "output_type": "stream",
          "name": "stdout",
          "text": [
            "{'<OOV>': 1, 'ice': 2, 'cream': 3, 'my': 4, 'favorite': 5, 'food': 6, 'is': 7, 'do': 8, 'you': 9, 'like': 10, 'too': 11}\n"
          ]
        }
      ]
    },
    {
      "cell_type": "code",
      "source": [
        "#word sequence matters\n",
        "#turn sentences to sequences\n",
        "\n",
        "sequences = tokenizer.texts_to_sequences(sentences)\n",
        "\n",
        "print(sequences)"
      ],
      "metadata": {
        "id": "WbFuERUunkpB",
        "colab": {
          "base_uri": "https://localhost:8080/"
        },
        "outputId": "5f8c37b2-25f5-45f7-9a0b-66e0c36a3411"
      },
      "execution_count": 13,
      "outputs": [
        {
          "output_type": "stream",
          "name": "stdout",
          "text": [
            "[[4, 5, 6, 7, 2, 3], [8, 9, 1, 2, 3, 1]]\n"
          ]
        }
      ]
    },
    {
      "cell_type": "code",
      "source": [
        "#new sentences\n",
        "\n",
        "new_sentence = [\n",
        "    \"Your favorite food is matooke and posho\"\n",
        "]"
      ],
      "metadata": {
        "id": "tTAq6MoStXeL"
      },
      "execution_count": 14,
      "outputs": []
    },
    {
      "cell_type": "code",
      "source": [
        "sequences_new = tokenizer.texts_to_sequences(new_sentence)\n",
        "\n",
        "print(sequences_new)"
      ],
      "metadata": {
        "colab": {
          "base_uri": "https://localhost:8080/"
        },
        "id": "zfEcSxDUuPee",
        "outputId": "fb2d2a50-1fa5-479f-892e-eed4f4601571"
      },
      "execution_count": 17,
      "outputs": [
        {
          "output_type": "stream",
          "name": "stdout",
          "text": [
            "[[1, 5, 6, 7, 1, 1, 1]]\n"
          ]
        }
      ]
    },
    {
      "cell_type": "code",
      "source": [],
      "metadata": {
        "id": "RzINhsfRubbC"
      },
      "execution_count": null,
      "outputs": []
    }
  ]
}